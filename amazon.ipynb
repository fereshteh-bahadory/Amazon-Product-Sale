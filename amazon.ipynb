{
 "cells": [
  {
   "cell_type": "markdown",
   "id": "3e3632a9-e544-4c47-aa4b-c77700459c53",
   "metadata": {},
   "source": [
    "# Amazon Data Analysis"
   ]
  },
  {
   "cell_type": "markdown",
   "id": "3e630dc0-1b60-4faa-ab58-cd6ea12d1e13",
   "metadata": {},
   "source": [
    "## Table of contents<a name=top></a>\n",
    "1. [Data description](#des)<br>\n",
    "1. [Importing Libraries](#lib)<br>\n",
    "1. [Load datasets](#load)<br>\n",
    "1. [Pre-processing](#pre)<br>"
   ]
  },
  {
   "cell_type": "markdown",
   "id": "aa5c3f65-58f1-4f02-89be-ca35c34dd7fc",
   "metadata": {},
   "source": [
    "## Data description<a name=des></a>\n",
    "This project is on the analysis of Amazon product sale in different zones in the US. More details can be found [here](https://www.kaggle.com/datasets/anandshaw2001/amazon-sales-dataset). We aim to do different analysis on this data, such as date of orders, to see trends in sales and profit over time, customer and product analysis, and so on. The dataset has 3203 rows with no missing values. \n",
    "\r\n"
   ]
  },
  {
   "cell_type": "markdown",
   "id": "b285e882-bd45-454d-b566-b8bc1965fcba",
   "metadata": {},
   "source": [
    "## Importing Libraries<a name=lib></a>"
   ]
  },
  {
   "cell_type": "code",
   "execution_count": 8,
   "id": "7b0562b4-05a9-4370-8269-4e7095672a75",
   "metadata": {},
   "outputs": [],
   "source": [
    "import pandas as pd\n",
    "import numpy as np\n",
    "import matplotlib.pyplot as plt\n",
    "import seaborn as sns"
   ]
  },
  {
   "cell_type": "markdown",
   "id": "d03feae5-5f50-4074-ba16-ef3d8880c9a7",
   "metadata": {},
   "source": [
    "## Load datasets<a name=load></a>"
   ]
  },
  {
   "cell_type": "code",
   "execution_count": 3,
   "id": "f946d899-6a24-4893-80a2-7c3f17943080",
   "metadata": {},
   "outputs": [
    {
     "data": {
      "text/html": [
       "<div>\n",
       "<style scoped>\n",
       "    .dataframe tbody tr th:only-of-type {\n",
       "        vertical-align: middle;\n",
       "    }\n",
       "\n",
       "    .dataframe tbody tr th {\n",
       "        vertical-align: top;\n",
       "    }\n",
       "\n",
       "    .dataframe thead th {\n",
       "        text-align: right;\n",
       "    }\n",
       "</style>\n",
       "<table border=\"1\" class=\"dataframe\">\n",
       "  <thead>\n",
       "    <tr style=\"text-align: right;\">\n",
       "      <th></th>\n",
       "      <th>Order ID</th>\n",
       "      <th>Order Date</th>\n",
       "      <th>Ship Date</th>\n",
       "      <th>EmailID</th>\n",
       "      <th>Geography</th>\n",
       "      <th>Category</th>\n",
       "      <th>Product Name</th>\n",
       "      <th>Sales</th>\n",
       "      <th>Quantity</th>\n",
       "      <th>Profit</th>\n",
       "    </tr>\n",
       "  </thead>\n",
       "  <tbody>\n",
       "    <tr>\n",
       "      <th>0</th>\n",
       "      <td>CA-2013-138688</td>\n",
       "      <td>6/13/2013</td>\n",
       "      <td>6/17/2013</td>\n",
       "      <td>DarrinVanHuff@gmail.com</td>\n",
       "      <td>United States,Los Angeles,California</td>\n",
       "      <td>Labels</td>\n",
       "      <td>Self-Adhesive Address Labels for Typewriters b...</td>\n",
       "      <td>14.62</td>\n",
       "      <td>2.0</td>\n",
       "      <td>6.87</td>\n",
       "    </tr>\n",
       "    <tr>\n",
       "      <th>1</th>\n",
       "      <td>CA-2011-115812</td>\n",
       "      <td>6/9/2011</td>\n",
       "      <td>6/14/2011</td>\n",
       "      <td>BrosinaHoffman@gmail.com</td>\n",
       "      <td>United States,Los Angeles,California</td>\n",
       "      <td>Furnishings</td>\n",
       "      <td>Eldon Expressions Wood and Plastic Desk Access...</td>\n",
       "      <td>48.86</td>\n",
       "      <td>7.0</td>\n",
       "      <td>14.17</td>\n",
       "    </tr>\n",
       "  </tbody>\n",
       "</table>\n",
       "</div>"
      ],
      "text/plain": [
       "         Order ID Order Date  Ship Date                   EmailID  \\\n",
       "0  CA-2013-138688  6/13/2013  6/17/2013   DarrinVanHuff@gmail.com   \n",
       "1  CA-2011-115812   6/9/2011  6/14/2011  BrosinaHoffman@gmail.com   \n",
       "\n",
       "                              Geography     Category  \\\n",
       "0  United States,Los Angeles,California       Labels   \n",
       "1  United States,Los Angeles,California  Furnishings   \n",
       "\n",
       "                                        Product Name  Sales  Quantity  Profit  \n",
       "0  Self-Adhesive Address Labels for Typewriters b...  14.62       2.0    6.87  \n",
       "1  Eldon Expressions Wood and Plastic Desk Access...  48.86       7.0   14.17  "
      ]
     },
     "execution_count": 3,
     "metadata": {},
     "output_type": "execute_result"
    }
   ],
   "source": [
    "amazon_data=pd.read_csv(r'E:\\My projects\\amazon\\Amazon.csv')\n",
    "amazon_data.head(2)"
   ]
  },
  {
   "cell_type": "code",
   "execution_count": 4,
   "id": "158543d1-317b-42d2-980f-13957e0c992d",
   "metadata": {},
   "outputs": [
    {
     "name": "stdout",
     "output_type": "stream",
     "text": [
      "<class 'pandas.core.frame.DataFrame'>\n",
      "RangeIndex: 3203 entries, 0 to 3202\n",
      "Data columns (total 10 columns):\n",
      " #   Column        Non-Null Count  Dtype  \n",
      "---  ------        --------------  -----  \n",
      " 0   Order ID      3203 non-null   object \n",
      " 1   Order Date    3203 non-null   object \n",
      " 2   Ship Date     3203 non-null   object \n",
      " 3   EmailID       3203 non-null   object \n",
      " 4   Geography     3203 non-null   object \n",
      " 5   Category      3203 non-null   object \n",
      " 6   Product Name  3203 non-null   object \n",
      " 7   Sales         3203 non-null   float64\n",
      " 8   Quantity      3203 non-null   float64\n",
      " 9   Profit        3203 non-null   float64\n",
      "dtypes: float64(3), object(7)\n",
      "memory usage: 250.4+ KB\n"
     ]
    }
   ],
   "source": [
    "amazon_data.info()"
   ]
  },
  {
   "cell_type": "markdown",
   "id": "a566002a-59c8-4105-b626-65ac3ed2670e",
   "metadata": {},
   "source": [
    "## Pre-processing<a name=pre></a>\n",
    "As we see, there are no missing values in the data frame. We start by omitting unnecessary columns, `Order ID` and `EmailID`. The date-time columns are also saved as objects. So we should first convert their types to `datetime`."
   ]
  },
  {
   "cell_type": "code",
   "execution_count": 5,
   "id": "e7790507-085a-44a2-bed9-ee0e6acca833",
   "metadata": {},
   "outputs": [
    {
     "data": {
      "text/html": [
       "<div>\n",
       "<style scoped>\n",
       "    .dataframe tbody tr th:only-of-type {\n",
       "        vertical-align: middle;\n",
       "    }\n",
       "\n",
       "    .dataframe tbody tr th {\n",
       "        vertical-align: top;\n",
       "    }\n",
       "\n",
       "    .dataframe thead th {\n",
       "        text-align: right;\n",
       "    }\n",
       "</style>\n",
       "<table border=\"1\" class=\"dataframe\">\n",
       "  <thead>\n",
       "    <tr style=\"text-align: right;\">\n",
       "      <th></th>\n",
       "      <th>Order Date</th>\n",
       "      <th>Ship Date</th>\n",
       "      <th>Geography</th>\n",
       "      <th>Category</th>\n",
       "      <th>Product Name</th>\n",
       "      <th>Sales</th>\n",
       "      <th>Quantity</th>\n",
       "      <th>Profit</th>\n",
       "    </tr>\n",
       "  </thead>\n",
       "  <tbody>\n",
       "    <tr>\n",
       "      <th>0</th>\n",
       "      <td>6/13/2013</td>\n",
       "      <td>6/17/2013</td>\n",
       "      <td>United States,Los Angeles,California</td>\n",
       "      <td>Labels</td>\n",
       "      <td>Self-Adhesive Address Labels for Typewriters b...</td>\n",
       "      <td>14.62</td>\n",
       "      <td>2.0</td>\n",
       "      <td>6.87</td>\n",
       "    </tr>\n",
       "    <tr>\n",
       "      <th>1</th>\n",
       "      <td>6/9/2011</td>\n",
       "      <td>6/14/2011</td>\n",
       "      <td>United States,Los Angeles,California</td>\n",
       "      <td>Furnishings</td>\n",
       "      <td>Eldon Expressions Wood and Plastic Desk Access...</td>\n",
       "      <td>48.86</td>\n",
       "      <td>7.0</td>\n",
       "      <td>14.17</td>\n",
       "    </tr>\n",
       "  </tbody>\n",
       "</table>\n",
       "</div>"
      ],
      "text/plain": [
       "  Order Date  Ship Date                             Geography     Category  \\\n",
       "0  6/13/2013  6/17/2013  United States,Los Angeles,California       Labels   \n",
       "1   6/9/2011  6/14/2011  United States,Los Angeles,California  Furnishings   \n",
       "\n",
       "                                        Product Name  Sales  Quantity  Profit  \n",
       "0  Self-Adhesive Address Labels for Typewriters b...  14.62       2.0    6.87  \n",
       "1  Eldon Expressions Wood and Plastic Desk Access...  48.86       7.0   14.17  "
      ]
     },
     "execution_count": 5,
     "metadata": {},
     "output_type": "execute_result"
    }
   ],
   "source": [
    "amazon_data.drop(['Order ID','EmailID'], axis=1,inplace=True)\n",
    "amazon_data.head(2)"
   ]
  },
  {
   "cell_type": "code",
   "execution_count": 7,
   "id": "a2b805a9-7e29-42ff-9aeb-c56918b15085",
   "metadata": {},
   "outputs": [
    {
     "data": {
      "text/html": [
       "<div>\n",
       "<style scoped>\n",
       "    .dataframe tbody tr th:only-of-type {\n",
       "        vertical-align: middle;\n",
       "    }\n",
       "\n",
       "    .dataframe tbody tr th {\n",
       "        vertical-align: top;\n",
       "    }\n",
       "\n",
       "    .dataframe thead th {\n",
       "        text-align: right;\n",
       "    }\n",
       "</style>\n",
       "<table border=\"1\" class=\"dataframe\">\n",
       "  <thead>\n",
       "    <tr style=\"text-align: right;\">\n",
       "      <th></th>\n",
       "      <th>Order Date</th>\n",
       "      <th>Ship Date</th>\n",
       "      <th>Geography</th>\n",
       "      <th>Category</th>\n",
       "      <th>Product Name</th>\n",
       "      <th>Sales</th>\n",
       "      <th>Quantity</th>\n",
       "      <th>Profit</th>\n",
       "    </tr>\n",
       "  </thead>\n",
       "  <tbody>\n",
       "    <tr>\n",
       "      <th>0</th>\n",
       "      <td>2013-06-13</td>\n",
       "      <td>2013-06-17</td>\n",
       "      <td>United States,Los Angeles,California</td>\n",
       "      <td>Labels</td>\n",
       "      <td>Self-Adhesive Address Labels for Typewriters b...</td>\n",
       "      <td>14.62</td>\n",
       "      <td>2.0</td>\n",
       "      <td>6.87</td>\n",
       "    </tr>\n",
       "    <tr>\n",
       "      <th>1</th>\n",
       "      <td>2011-06-09</td>\n",
       "      <td>2011-06-14</td>\n",
       "      <td>United States,Los Angeles,California</td>\n",
       "      <td>Furnishings</td>\n",
       "      <td>Eldon Expressions Wood and Plastic Desk Access...</td>\n",
       "      <td>48.86</td>\n",
       "      <td>7.0</td>\n",
       "      <td>14.17</td>\n",
       "    </tr>\n",
       "  </tbody>\n",
       "</table>\n",
       "</div>"
      ],
      "text/plain": [
       "  Order Date  Ship Date                             Geography     Category  \\\n",
       "0 2013-06-13 2013-06-17  United States,Los Angeles,California       Labels   \n",
       "1 2011-06-09 2011-06-14  United States,Los Angeles,California  Furnishings   \n",
       "\n",
       "                                        Product Name  Sales  Quantity  Profit  \n",
       "0  Self-Adhesive Address Labels for Typewriters b...  14.62       2.0    6.87  \n",
       "1  Eldon Expressions Wood and Plastic Desk Access...  48.86       7.0   14.17  "
      ]
     },
     "execution_count": 7,
     "metadata": {},
     "output_type": "execute_result"
    }
   ],
   "source": [
    "amazon_data['Order Date']=pd.to_datetime(amazon_data['Order Date'])\n",
    "amazon_data['Ship Date']=pd.to_datetime(amazon_data['Ship Date'])\n",
    "amazon_data.head(2)"
   ]
  },
  {
   "cell_type": "code",
   "execution_count": 9,
   "id": "3ac59b01-7c14-4879-b49c-4ec469e0cedd",
   "metadata": {},
   "outputs": [
    {
     "name": "stdout",
     "output_type": "stream",
     "text": [
      "<class 'pandas.core.frame.DataFrame'>\n",
      "RangeIndex: 3203 entries, 0 to 3202\n",
      "Data columns (total 8 columns):\n",
      " #   Column        Non-Null Count  Dtype         \n",
      "---  ------        --------------  -----         \n",
      " 0   Order Date    3203 non-null   datetime64[ns]\n",
      " 1   Ship Date     3203 non-null   datetime64[ns]\n",
      " 2   Geography     3203 non-null   object        \n",
      " 3   Category      3203 non-null   object        \n",
      " 4   Product Name  3203 non-null   object        \n",
      " 5   Sales         3203 non-null   float64       \n",
      " 6   Quantity      3203 non-null   float64       \n",
      " 7   Profit        3203 non-null   float64       \n",
      "dtypes: datetime64[ns](2), float64(3), object(3)\n",
      "memory usage: 200.3+ KB\n"
     ]
    }
   ],
   "source": [
    "amazon_data.info()"
   ]
  }
 ],
 "metadata": {
  "kernelspec": {
   "display_name": "Python 3 (ipykernel)",
   "language": "python",
   "name": "python3"
  },
  "language_info": {
   "codemirror_mode": {
    "name": "ipython",
    "version": 3
   },
   "file_extension": ".py",
   "mimetype": "text/x-python",
   "name": "python",
   "nbconvert_exporter": "python",
   "pygments_lexer": "ipython3",
   "version": "3.11.6"
  }
 },
 "nbformat": 4,
 "nbformat_minor": 5
}
